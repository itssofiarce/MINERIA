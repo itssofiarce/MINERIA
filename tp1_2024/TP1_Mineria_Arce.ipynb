{
  "cells": [
    {
      "cell_type": "markdown",
      "metadata": {
        "colab_type": "text",
        "id": "view-in-github"
      },
      "source": [
        "<a href=\"https://colab.research.google.com/github/itssofiarce/MINERIA/blob/main/TP1_Mineria_Arce.ipynb\" target=\"_parent\"><img src=\"https://colab.research.google.com/assets/colab-badge.svg\" alt=\"Open In Colab\"/></a>"
      ]
    },
    {
      "cell_type": "markdown",
      "metadata": {
        "id": "7OTqfDWLCk5V"
      },
      "source": [
        "# Trabajo Práctico Minería de Datos 2024\n",
        "## Docentes\n",
        "- Spetale, Flavio\n",
        "- Ramiro Gatti\n",
        "- Pellerejo, Ivan\n",
        "\n",
        "## Integrante\n",
        "- Sofía Arce\n"
      ]
    },
    {
      "cell_type": "markdown",
      "metadata": {
        "id": "AzWL-HOHC4RO"
      },
      "source": [
        "# Preparacion del entorno"
      ]
    },
    {
      "cell_type": "code",
      "execution_count": null,
      "metadata": {},
      "outputs": [],
      "source": [
        "import os\n",
        "\n",
        "REPO_NAME = \"MINERIA\"\n",
        "if REPO_NAME not in os.getcwd():\n",
        "  if not os.path.exists(REPO_NAME):\n",
        "    !git clone https://github.com/itssofiarce/MINERIA.git\n",
        "  os.chdir(REPO_NAME)"
      ]
    }
  ],
  "metadata": {
    "colab": {
      "authorship_tag": "ABX9TyM7y2W4oTfhUaXiJWHdzAS1",
      "include_colab_link": true,
      "provenance": []
    },
    "kernelspec": {
      "display_name": "Python 3",
      "name": "python3"
    },
    "language_info": {
      "name": "python"
    }
  },
  "nbformat": 4,
  "nbformat_minor": 0
}
